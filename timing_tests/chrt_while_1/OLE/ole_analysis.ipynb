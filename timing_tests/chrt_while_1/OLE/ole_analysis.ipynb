{
 "cells": [
  {
   "cell_type": "code",
   "execution_count": 1,
   "metadata": {},
   "outputs": [
    {
     "data": {
      "text/plain": [
       "'/home/bbhaduri/Projects/realtime_rig_dev/timing_tests/chrt+while(1)/OLE'"
      ]
     },
     "execution_count": 1,
     "metadata": {},
     "output_type": "execute_result"
    }
   ],
   "source": [
    "import os\n",
    "os.getcwd()"
   ]
  },
  {
   "cell_type": "code",
   "execution_count": 3,
   "metadata": {},
   "outputs": [],
   "source": [
    "import pickle\n",
    "import numpy as np\n",
    "import pandas as pd\n",
    "import matplotlib.pyplot as plt\n",
    "\n",
    "df = 'dataframes/220801T1125_OLEdata.pkl'\n",
    "\n",
    "with open(df, 'rb') as f:\n",
    "    ole_data = pickle.load(f) "
   ]
  },
  {
   "cell_type": "code",
   "execution_count": 4,
   "metadata": {},
   "outputs": [
    {
     "data": {
      "text/html": [
       "<div>\n",
       "<style scoped>\n",
       "    .dataframe tbody tr th:only-of-type {\n",
       "        vertical-align: middle;\n",
       "    }\n",
       "\n",
       "    .dataframe tbody tr th {\n",
       "        vertical-align: top;\n",
       "    }\n",
       "\n",
       "    .dataframe thead th {\n",
       "        text-align: right;\n",
       "    }\n",
       "</style>\n",
       "<table border=\"1\" class=\"dataframe\">\n",
       "  <thead>\n",
       "    <tr style=\"text-align: right;\">\n",
       "      <th></th>\n",
       "      <th>preds</th>\n",
       "      <th>ts_in</th>\n",
       "      <th>ts_add</th>\n",
       "      <th>ts_read</th>\n",
       "    </tr>\n",
       "    <tr>\n",
       "      <th>i</th>\n",
       "      <th></th>\n",
       "      <th></th>\n",
       "      <th></th>\n",
       "      <th></th>\n",
       "    </tr>\n",
       "  </thead>\n",
       "  <tbody>\n",
       "    <tr>\n",
       "      <th>45</th>\n",
       "      <td>[0.0, 1.875, 0.0, 1.875]</td>\n",
       "      <td>0.0</td>\n",
       "      <td>778233.013578</td>\n",
       "      <td>778233.013566</td>\n",
       "    </tr>\n",
       "    <tr>\n",
       "      <th>46</th>\n",
       "      <td>[0.0, 1.875, 0.0, 1.875]</td>\n",
       "      <td>0.0</td>\n",
       "      <td>778233.018533</td>\n",
       "      <td>778233.018527</td>\n",
       "    </tr>\n",
       "    <tr>\n",
       "      <th>47</th>\n",
       "      <td>[0.0, 1.875, 0.0, 1.875]</td>\n",
       "      <td>0.0</td>\n",
       "      <td>778233.023527</td>\n",
       "      <td>778233.023522</td>\n",
       "    </tr>\n",
       "    <tr>\n",
       "      <th>48</th>\n",
       "      <td>[0.0, 1.875, 0.0, 1.875]</td>\n",
       "      <td>0.0</td>\n",
       "      <td>778233.028528</td>\n",
       "      <td>778233.028524</td>\n",
       "    </tr>\n",
       "    <tr>\n",
       "      <th>49</th>\n",
       "      <td>[0.0, 1.875, 0.0, 1.875]</td>\n",
       "      <td>0.0</td>\n",
       "      <td>778233.033525</td>\n",
       "      <td>778233.033521</td>\n",
       "    </tr>\n",
       "    <tr>\n",
       "      <th>...</th>\n",
       "      <td>...</td>\n",
       "      <td>...</td>\n",
       "      <td>...</td>\n",
       "      <td>...</td>\n",
       "    </tr>\n",
       "    <tr>\n",
       "      <th>4871</th>\n",
       "      <td>[0.0, 1.875, 0.0, 1.875]</td>\n",
       "      <td>0.0</td>\n",
       "      <td>778257.703544</td>\n",
       "      <td>778257.703531</td>\n",
       "    </tr>\n",
       "    <tr>\n",
       "      <th>4872</th>\n",
       "      <td>[0.0, 1.875, 0.0, 1.875]</td>\n",
       "      <td>0.0</td>\n",
       "      <td>778257.708548</td>\n",
       "      <td>778257.708535</td>\n",
       "    </tr>\n",
       "    <tr>\n",
       "      <th>4873</th>\n",
       "      <td>[0.0, 1.875, 0.0, 1.875]</td>\n",
       "      <td>0.0</td>\n",
       "      <td>778257.713541</td>\n",
       "      <td>778257.713528</td>\n",
       "    </tr>\n",
       "    <tr>\n",
       "      <th>4874</th>\n",
       "      <td>[0.0, 1.875, 0.0, 1.875]</td>\n",
       "      <td>0.0</td>\n",
       "      <td>778257.718544</td>\n",
       "      <td>778257.718532</td>\n",
       "    </tr>\n",
       "    <tr>\n",
       "      <th>4875</th>\n",
       "      <td>[0.0, 1.875, 0.0, 1.875]</td>\n",
       "      <td>0.0</td>\n",
       "      <td>778257.723549</td>\n",
       "      <td>778257.723536</td>\n",
       "    </tr>\n",
       "  </tbody>\n",
       "</table>\n",
       "<p>4831 rows × 4 columns</p>\n",
       "</div>"
      ],
      "text/plain": [
       "                         preds  ts_in         ts_add        ts_read\n",
       "i                                                                  \n",
       "45    [0.0, 1.875, 0.0, 1.875]    0.0  778233.013578  778233.013566\n",
       "46    [0.0, 1.875, 0.0, 1.875]    0.0  778233.018533  778233.018527\n",
       "47    [0.0, 1.875, 0.0, 1.875]    0.0  778233.023527  778233.023522\n",
       "48    [0.0, 1.875, 0.0, 1.875]    0.0  778233.028528  778233.028524\n",
       "49    [0.0, 1.875, 0.0, 1.875]    0.0  778233.033525  778233.033521\n",
       "...                        ...    ...            ...            ...\n",
       "4871  [0.0, 1.875, 0.0, 1.875]    0.0  778257.703544  778257.703531\n",
       "4872  [0.0, 1.875, 0.0, 1.875]    0.0  778257.708548  778257.708535\n",
       "4873  [0.0, 1.875, 0.0, 1.875]    0.0  778257.713541  778257.713528\n",
       "4874  [0.0, 1.875, 0.0, 1.875]    0.0  778257.718544  778257.718532\n",
       "4875  [0.0, 1.875, 0.0, 1.875]    0.0  778257.723549  778257.723536\n",
       "\n",
       "[4831 rows x 4 columns]"
      ]
     },
     "execution_count": 4,
     "metadata": {},
     "output_type": "execute_result"
    }
   ],
   "source": [
    "ole_data"
   ]
  }
 ],
 "metadata": {
  "kernelspec": {
   "display_name": "Python 3.8.2 ('rt')",
   "language": "python",
   "name": "python3"
  },
  "language_info": {
   "codemirror_mode": {
    "name": "ipython",
    "version": 3
   },
   "file_extension": ".py",
   "mimetype": "text/x-python",
   "name": "python",
   "nbconvert_exporter": "python",
   "pygments_lexer": "ipython3",
   "version": "3.8.2"
  },
  "orig_nbformat": 4,
  "vscode": {
   "interpreter": {
    "hash": "cf778c4cf72b32d92152b5435f02affe10a789020ccfd72cdc5f3d8e9f8e5fdd"
   }
  }
 },
 "nbformat": 4,
 "nbformat_minor": 2
}
